{
  "cells": [
    {
      "cell_type": "markdown",
      "metadata": {
        "id": "view-in-github",
        "colab_type": "text"
      },
      "source": [
        "<a href=\"https://colab.research.google.com/github/pirri87/GOB_Medio_Amb/blob/main/Control_seguimiento.ipynb\" target=\"_parent\"><img src=\"https://colab.research.google.com/assets/colab-badge.svg\" alt=\"Open In Colab\"/></a>"
      ]
    },
    {
      "cell_type": "markdown",
      "source": [
        "# Libraries & Load Drive"
      ],
      "metadata": {
        "id": "1kplpw_EB2gb"
      }
    },
    {
      "cell_type": "code",
      "execution_count": 1,
      "metadata": {
        "id": "jANyGBtmbWSm"
      },
      "outputs": [],
      "source": [
        "# libraries\n",
        "import pandas as pd\n",
        "import numpy as np"
      ]
    },
    {
      "cell_type": "code",
      "execution_count": 2,
      "metadata": {
        "colab": {
          "base_uri": "https://localhost:8080/"
        },
        "id": "yWwoVwDsfRS2",
        "outputId": "9aeeeeea-1531-4e4c-e995-0267966381bd"
      },
      "outputs": [
        {
          "output_type": "stream",
          "name": "stdout",
          "text": [
            "Drive already mounted at /content/drive; to attempt to forcibly remount, call drive.mount(\"/content/drive\", force_remount=True).\n"
          ]
        }
      ],
      "source": [
        "from google.colab import drive\n",
        "drive.mount('/content/drive')"
      ]
    },
    {
      "cell_type": "markdown",
      "source": [
        "# Funciones"
      ],
      "metadata": {
        "id": "pnjdIlpN93K9"
      }
    },
    {
      "cell_type": "code",
      "source": [
        "def remove_nan (rows, colum):\n",
        "  cell_buffer = []\n",
        "  for row in range(1, rows):\n",
        "    cell = df.loc[row, colum]\n",
        "    cell_buffer.append(cell)\n",
        "    if str(cell) == 'nan': # No me funcionas lo metedos nan asi lo transforme a str y puse nan\n",
        "      df.at[row, colum] = cell_buffer[-2] # Añado el penultimo numero que tiene dato\n",
        "      cell_buffer[-1] = cell_buffer[-2] # Añado el penultimo numero que tiene dato"
      ],
      "metadata": {
        "id": "dnwnlVX44b9A"
      },
      "execution_count": 3,
      "outputs": []
    },
    {
      "cell_type": "code",
      "source": [
        "def add_APCA_format (rows, colum):\n",
        "  for row in range(1, rows):\n",
        "    cell = df.loc[row, colum]\n",
        "    if len(cell) == 1:\n",
        "      df.at[row, colum] = 'APCA-00' + cell+ '-' + str(df.loc[row, 'PROVINCIA'])\n",
        "    elif len(cell) == 2:\n",
        "      df.at[row, colum] = 'APCA-0' + cell+ '-' + str(df.loc[row, 'PROVINCIA'])\n",
        "    elif len(cell) == 3:\n",
        "      df.at[row, colum] = 'APCA-' + cell+ '-' + str(df.loc[row, 'PROVINCIA'])"
      ],
      "metadata": {
        "id": "gZTDgP_mfJN5"
      },
      "execution_count": 4,
      "outputs": []
    },
    {
      "cell_type": "markdown",
      "source": [
        "#Código"
      ],
      "metadata": {
        "id": "HyxNMQ2jyJ0v"
      }
    },
    {
      "cell_type": "markdown",
      "source": [
        "## Load excel"
      ],
      "metadata": {
        "id": "_mnGIUjr5I-Q"
      }
    },
    {
      "cell_type": "code",
      "execution_count": 5,
      "metadata": {
        "id": "qPc4Vd2udgPW"
      },
      "outputs": [],
      "source": [
        "# Load excel\n",
        "xls = pd.ExcelFile('/content/drive/MyDrive/00_Gob_Medio_Amb/Registro_Seguimiento/REGISTRO_APCAs_COVs.xlsx')"
      ]
    },
    {
      "cell_type": "code",
      "execution_count": 6,
      "metadata": {
        "id": "vcu9y1YVilUK"
      },
      "outputs": [],
      "source": [
        "end = len(xls.sheet_names)"
      ]
    },
    {
      "cell_type": "markdown",
      "source": [
        "## Manipular datos"
      ],
      "metadata": {
        "id": "CW7eM-T251t7"
      }
    },
    {
      "cell_type": "code",
      "source": [
        "df = pd.read_excel(xls,0)\n",
        "rows = len(df)"
      ],
      "metadata": {
        "id": "JS0RzCtp56Oz"
      },
      "execution_count": 7,
      "outputs": []
    },
    {
      "cell_type": "code",
      "source": [
        "df= df.loc[ 1 : ,['IDE','PROVINCIA']] # Cojo la columna de la numeración y de la provincia"
      ],
      "metadata": {
        "id": "u0mgSCO54mIT"
      },
      "execution_count": 8,
      "outputs": []
    },
    {
      "cell_type": "code",
      "source": [
        "rows = len(df) + 1 # Le sume uno porque no llegaba la última fila"
      ],
      "metadata": {
        "id": "Ez2c0UZ6QHrh"
      },
      "execution_count": 9,
      "outputs": []
    },
    {
      "cell_type": "code",
      "source": [
        "rows"
      ],
      "metadata": {
        "colab": {
          "base_uri": "https://localhost:8080/"
        },
        "id": "AcEM_dsHQKlk",
        "outputId": "fbad3b04-a9c6-4841-9ce3-0b8daff7773b"
      },
      "execution_count": 10,
      "outputs": [
        {
          "output_type": "execute_result",
          "data": {
            "text/plain": [
              "381"
            ]
          },
          "metadata": {},
          "execution_count": 10
        }
      ]
    },
    {
      "cell_type": "code",
      "source": [
        "remove_nan(rows, 'IDE')"
      ],
      "metadata": {
        "id": "SefmhurCQWqX"
      },
      "execution_count": 11,
      "outputs": []
    },
    {
      "cell_type": "code",
      "source": [
        "print (df.dtypes)"
      ],
      "metadata": {
        "colab": {
          "base_uri": "https://localhost:8080/"
        },
        "id": "y8hqBJMszRqh",
        "outputId": "77a6d267-4f25-4771-e76f-7df2e9383cb5"
      },
      "execution_count": 12,
      "outputs": [
        {
          "output_type": "stream",
          "name": "stdout",
          "text": [
            "IDE          float64\n",
            "PROVINCIA     object\n",
            "dtype: object\n"
          ]
        }
      ]
    },
    {
      "cell_type": "code",
      "source": [
        "df['IDE'] = df['IDE'].astype(int)"
      ],
      "metadata": {
        "id": "LP_HeqEozZzv"
      },
      "execution_count": 13,
      "outputs": []
    },
    {
      "cell_type": "code",
      "source": [
        "df['IDE'] = df['IDE'].astype(str)"
      ],
      "metadata": {
        "id": "zF_wFyUI0zOL"
      },
      "execution_count": 14,
      "outputs": []
    },
    {
      "cell_type": "code",
      "source": [
        "df"
      ],
      "metadata": {
        "colab": {
          "base_uri": "https://localhost:8080/",
          "height": 424
        },
        "id": "ek9YUqKyzfQ3",
        "outputId": "de8fc057-076f-4f31-de58-e1fa4e562b40"
      },
      "execution_count": 15,
      "outputs": [
        {
          "output_type": "execute_result",
          "data": {
            "text/plain": [
              "     IDE PROVINCIA\n",
              "1      1        LP\n",
              "2      3        LP\n",
              "3      4        TF\n",
              "4      5        TF\n",
              "5      6        LP\n",
              "..   ...       ...\n",
              "376  656        TF\n",
              "377  659        TF\n",
              "378  660        LP\n",
              "379  670        TF\n",
              "380  673        TF\n",
              "\n",
              "[380 rows x 2 columns]"
            ],
            "text/html": [
              "\n",
              "  <div id=\"df-02f0f010-0c61-44a0-9f07-138640ccc82b\">\n",
              "    <div class=\"colab-df-container\">\n",
              "      <div>\n",
              "<style scoped>\n",
              "    .dataframe tbody tr th:only-of-type {\n",
              "        vertical-align: middle;\n",
              "    }\n",
              "\n",
              "    .dataframe tbody tr th {\n",
              "        vertical-align: top;\n",
              "    }\n",
              "\n",
              "    .dataframe thead th {\n",
              "        text-align: right;\n",
              "    }\n",
              "</style>\n",
              "<table border=\"1\" class=\"dataframe\">\n",
              "  <thead>\n",
              "    <tr style=\"text-align: right;\">\n",
              "      <th></th>\n",
              "      <th>IDE</th>\n",
              "      <th>PROVINCIA</th>\n",
              "    </tr>\n",
              "  </thead>\n",
              "  <tbody>\n",
              "    <tr>\n",
              "      <th>1</th>\n",
              "      <td>1</td>\n",
              "      <td>LP</td>\n",
              "    </tr>\n",
              "    <tr>\n",
              "      <th>2</th>\n",
              "      <td>3</td>\n",
              "      <td>LP</td>\n",
              "    </tr>\n",
              "    <tr>\n",
              "      <th>3</th>\n",
              "      <td>4</td>\n",
              "      <td>TF</td>\n",
              "    </tr>\n",
              "    <tr>\n",
              "      <th>4</th>\n",
              "      <td>5</td>\n",
              "      <td>TF</td>\n",
              "    </tr>\n",
              "    <tr>\n",
              "      <th>5</th>\n",
              "      <td>6</td>\n",
              "      <td>LP</td>\n",
              "    </tr>\n",
              "    <tr>\n",
              "      <th>...</th>\n",
              "      <td>...</td>\n",
              "      <td>...</td>\n",
              "    </tr>\n",
              "    <tr>\n",
              "      <th>376</th>\n",
              "      <td>656</td>\n",
              "      <td>TF</td>\n",
              "    </tr>\n",
              "    <tr>\n",
              "      <th>377</th>\n",
              "      <td>659</td>\n",
              "      <td>TF</td>\n",
              "    </tr>\n",
              "    <tr>\n",
              "      <th>378</th>\n",
              "      <td>660</td>\n",
              "      <td>LP</td>\n",
              "    </tr>\n",
              "    <tr>\n",
              "      <th>379</th>\n",
              "      <td>670</td>\n",
              "      <td>TF</td>\n",
              "    </tr>\n",
              "    <tr>\n",
              "      <th>380</th>\n",
              "      <td>673</td>\n",
              "      <td>TF</td>\n",
              "    </tr>\n",
              "  </tbody>\n",
              "</table>\n",
              "<p>380 rows × 2 columns</p>\n",
              "</div>\n",
              "      <button class=\"colab-df-convert\" onclick=\"convertToInteractive('df-02f0f010-0c61-44a0-9f07-138640ccc82b')\"\n",
              "              title=\"Convert this dataframe to an interactive table.\"\n",
              "              style=\"display:none;\">\n",
              "        \n",
              "  <svg xmlns=\"http://www.w3.org/2000/svg\" height=\"24px\"viewBox=\"0 0 24 24\"\n",
              "       width=\"24px\">\n",
              "    <path d=\"M0 0h24v24H0V0z\" fill=\"none\"/>\n",
              "    <path d=\"M18.56 5.44l.94 2.06.94-2.06 2.06-.94-2.06-.94-.94-2.06-.94 2.06-2.06.94zm-11 1L8.5 8.5l.94-2.06 2.06-.94-2.06-.94L8.5 2.5l-.94 2.06-2.06.94zm10 10l.94 2.06.94-2.06 2.06-.94-2.06-.94-.94-2.06-.94 2.06-2.06.94z\"/><path d=\"M17.41 7.96l-1.37-1.37c-.4-.4-.92-.59-1.43-.59-.52 0-1.04.2-1.43.59L10.3 9.45l-7.72 7.72c-.78.78-.78 2.05 0 2.83L4 21.41c.39.39.9.59 1.41.59.51 0 1.02-.2 1.41-.59l7.78-7.78 2.81-2.81c.8-.78.8-2.07 0-2.86zM5.41 20L4 18.59l7.72-7.72 1.47 1.35L5.41 20z\"/>\n",
              "  </svg>\n",
              "      </button>\n",
              "      \n",
              "  <style>\n",
              "    .colab-df-container {\n",
              "      display:flex;\n",
              "      flex-wrap:wrap;\n",
              "      gap: 12px;\n",
              "    }\n",
              "\n",
              "    .colab-df-convert {\n",
              "      background-color: #E8F0FE;\n",
              "      border: none;\n",
              "      border-radius: 50%;\n",
              "      cursor: pointer;\n",
              "      display: none;\n",
              "      fill: #1967D2;\n",
              "      height: 32px;\n",
              "      padding: 0 0 0 0;\n",
              "      width: 32px;\n",
              "    }\n",
              "\n",
              "    .colab-df-convert:hover {\n",
              "      background-color: #E2EBFA;\n",
              "      box-shadow: 0px 1px 2px rgba(60, 64, 67, 0.3), 0px 1px 3px 1px rgba(60, 64, 67, 0.15);\n",
              "      fill: #174EA6;\n",
              "    }\n",
              "\n",
              "    [theme=dark] .colab-df-convert {\n",
              "      background-color: #3B4455;\n",
              "      fill: #D2E3FC;\n",
              "    }\n",
              "\n",
              "    [theme=dark] .colab-df-convert:hover {\n",
              "      background-color: #434B5C;\n",
              "      box-shadow: 0px 1px 3px 1px rgba(0, 0, 0, 0.15);\n",
              "      filter: drop-shadow(0px 1px 2px rgba(0, 0, 0, 0.3));\n",
              "      fill: #FFFFFF;\n",
              "    }\n",
              "  </style>\n",
              "\n",
              "      <script>\n",
              "        const buttonEl =\n",
              "          document.querySelector('#df-02f0f010-0c61-44a0-9f07-138640ccc82b button.colab-df-convert');\n",
              "        buttonEl.style.display =\n",
              "          google.colab.kernel.accessAllowed ? 'block' : 'none';\n",
              "\n",
              "        async function convertToInteractive(key) {\n",
              "          const element = document.querySelector('#df-02f0f010-0c61-44a0-9f07-138640ccc82b');\n",
              "          const dataTable =\n",
              "            await google.colab.kernel.invokeFunction('convertToInteractive',\n",
              "                                                     [key], {});\n",
              "          if (!dataTable) return;\n",
              "\n",
              "          const docLinkHtml = 'Like what you see? Visit the ' +\n",
              "            '<a target=\"_blank\" href=https://colab.research.google.com/notebooks/data_table.ipynb>data table notebook</a>'\n",
              "            + ' to learn more about interactive tables.';\n",
              "          element.innerHTML = '';\n",
              "          dataTable['output_type'] = 'display_data';\n",
              "          await google.colab.output.renderOutput(dataTable, element);\n",
              "          const docLink = document.createElement('div');\n",
              "          docLink.innerHTML = docLinkHtml;\n",
              "          element.appendChild(docLink);\n",
              "        }\n",
              "      </script>\n",
              "    </div>\n",
              "  </div>\n",
              "  "
            ]
          },
          "metadata": {},
          "execution_count": 15
        }
      ]
    },
    {
      "cell_type": "code",
      "source": [
        "add_APCA_format(rows, 'IDE')"
      ],
      "metadata": {
        "id": "kda8shAPOgic"
      },
      "execution_count": 16,
      "outputs": []
    },
    {
      "cell_type": "markdown",
      "source": [
        "# Guardar el archivo final"
      ],
      "metadata": {
        "id": "0adgBYvoBlpH"
      }
    },
    {
      "cell_type": "code",
      "source": [
        "path = '/content/drive/My Drive/00_Gob_Medio_Amb/Registro_Seguimiento/Formato_correcto-apca.xlsx'\n",
        "with pd.ExcelWriter(path) as writer:\n",
        "    # use to_excel function and specify the sheet_name and index\n",
        "    # to store the dataframe in specified sheet\n",
        "    df.to_excel(writer, sheet_name=\"apcas-ok-formato\", index=False)"
      ],
      "metadata": {
        "id": "g52Fa8TgObTB"
      },
      "execution_count": 17,
      "outputs": []
    }
  ],
  "metadata": {
    "colab": {
      "collapsed_sections": [
        "1kplpw_EB2gb"
      ],
      "provenance": [],
      "authorship_tag": "ABX9TyNnTEc+fm4gcHqR4Y2piQ1G",
      "include_colab_link": true
    },
    "kernelspec": {
      "display_name": "Python 3",
      "name": "python3"
    },
    "language_info": {
      "name": "python"
    }
  },
  "nbformat": 4,
  "nbformat_minor": 0
}