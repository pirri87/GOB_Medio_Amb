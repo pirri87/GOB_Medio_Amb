{
  "cells": [
    {
      "cell_type": "markdown",
      "metadata": {
        "id": "view-in-github",
        "colab_type": "text"
      },
      "source": [
        "<a href=\"https://colab.research.google.com/github/pirri87/GOB_Medio_Amb/blob/main/APCA_GENERAL_ALL.ipynb\" target=\"_parent\"><img src=\"https://colab.research.google.com/assets/colab-badge.svg\" alt=\"Open In Colab\"/></a>"
      ]
    },
    {
      "cell_type": "markdown",
      "source": [
        "# Libraries & Load Drive"
      ],
      "metadata": {
        "id": "1kplpw_EB2gb"
      }
    },
    {
      "cell_type": "code",
      "execution_count": null,
      "metadata": {
        "id": "jANyGBtmbWSm"
      },
      "outputs": [],
      "source": [
        "# libraries\n",
        "import pandas as pd"
      ]
    },
    {
      "cell_type": "code",
      "execution_count": null,
      "metadata": {
        "colab": {
          "base_uri": "https://localhost:8080/"
        },
        "id": "yWwoVwDsfRS2",
        "outputId": "1529ee62-c9ee-421b-d05d-be7c24ccb3ac"
      },
      "outputs": [
        {
          "output_type": "stream",
          "name": "stdout",
          "text": [
            "Drive already mounted at /content/drive; to attempt to forcibly remount, call drive.mount(\"/content/drive\", force_remount=True).\n"
          ]
        }
      ],
      "source": [
        "from google.colab import drive\n",
        "drive.mount('/content/drive')"
      ]
    },
    {
      "cell_type": "markdown",
      "source": [
        "# Funciones"
      ],
      "metadata": {
        "id": "e6n6-rfKDgAU"
      }
    },
    {
      "cell_type": "markdown",
      "source": [
        "### Código\n",
        "Cada sheet estara en un dataframe para ello tengo que hacer lo siguiente:\n",
        "*   Saber su apca_id\n",
        "*   Cogo los datos que necesito (Filas y columnas)\n",
        "*   Traspongo las columnas en filas\n",
        "*   Añado el apca_id.\n",
        "\n"
      ],
      "metadata": {
        "id": "1fWkv2PnJFZ7"
      }
    },
    {
      "cell_type": "code",
      "source": [
        "def take_apca_id(df_apca_id):\n",
        "  df_apca_id.head(0) # En el encabezado hay información que es dato y no keys, para ello hago estos pasos\n",
        "  mydict = df_apca_id.head(0).to_dict() # Lo transformo para poder manipularlo\n",
        "  apca_long = list(mydict.keys())[1] # Obtengo el dato que necesito que es el id del apca\n",
        "  #print(apca_long)\n",
        "  return apca_long[0:8]  # Corto el final para que no salga letras ni escpacios"
      ],
      "metadata": {
        "id": "M5u8tMiL7q4D"
      },
      "execution_count": null,
      "outputs": []
    },
    {
      "cell_type": "code",
      "execution_count": null,
      "metadata": {
        "id": "iKFXx22qW5-O"
      },
      "outputs": [],
      "source": [
        "def manipulador(xls,end, alcance):\n",
        "  list_df_all = []\n",
        "  for i in range(end):\n",
        "  #for i in range(2):\n",
        "    df = pd.read_excel(xls,i)# Load sheet, star in 0 , con la i recorro cada uno de los sheet\n",
        "    apca_id = take_apca_id(df)\n",
        "    #print(apca_id)\n",
        "    df = df.iloc[0:9 , 0:2] # Me quedo con las columnas y filas que yo quiero.\n",
        "    df = df.transpose() # Transpongo las filas a columna\n",
        "    df = df.rename(columns= df.iloc[0]).drop(df.index[0]) # Quito el Index del encabezado y le pongo la fila 1\n",
        "    df = df.reset_index(drop=True) # Reseteo el index porque al transponer ya no esta.\n",
        "    df['VCMA-EXP'] = apca_id\n",
        "    df['ALCANCE'] = alcance\n",
        "    list_df_all.append(df)\n",
        "  return list_df_all"
      ]
    },
    {
      "cell_type": "markdown",
      "source": [
        "# LP"
      ],
      "metadata": {
        "id": "CkLpsKo1x1A8"
      }
    },
    {
      "cell_type": "markdown",
      "source": [
        "## Notificación"
      ],
      "metadata": {
        "id": "afHcNFJShkYe"
      }
    },
    {
      "cell_type": "markdown",
      "source": [
        "### Excel to dataframe y saber cuantas sheet hay en el excel"
      ],
      "metadata": {
        "id": "HyxNMQ2jyJ0v"
      }
    },
    {
      "cell_type": "code",
      "execution_count": null,
      "metadata": {
        "id": "qPc4Vd2udgPW"
      },
      "outputs": [],
      "source": [
        "# Load excel\n",
        "xls = pd.ExcelFile('/content/drive/MyDrive/00_Gob_Medio_Amb/20220223 Notificaciones LP_excel.xlsx')"
      ]
    },
    {
      "cell_type": "code",
      "execution_count": null,
      "metadata": {
        "id": "vcu9y1YVilUK"
      },
      "outputs": [],
      "source": [
        "end = len(xls.sheet_names)"
      ]
    },
    {
      "cell_type": "markdown",
      "source": [
        "### Ejecutar funciones"
      ],
      "metadata": {
        "id": "WZ1aRfPtDuUe"
      }
    },
    {
      "cell_type": "code",
      "source": [
        "list_df_all = manipulador(xls,end, 'Notificación')"
      ],
      "metadata": {
        "id": "WYUXI-TTDxT5"
      },
      "execution_count": null,
      "outputs": []
    },
    {
      "cell_type": "markdown",
      "source": [
        "### Merge DF"
      ],
      "metadata": {
        "id": "Lh8I_lxoiTwD"
      }
    },
    {
      "cell_type": "code",
      "source": [
        "df_all_merge_LP_notificacion = pd.concat(list_df_all)"
      ],
      "metadata": {
        "id": "KbvSg2tfiTwF"
      },
      "execution_count": null,
      "outputs": []
    },
    {
      "cell_type": "code",
      "source": [
        "df_all_merge_LP_notificacion.dropna(how='all', axis=1, inplace=True) #Quitar Columnas vacias"
      ],
      "metadata": {
        "id": "o3mq5gRMiTwH"
      },
      "execution_count": null,
      "outputs": []
    },
    {
      "cell_type": "markdown",
      "source": [
        "## Autorización"
      ],
      "metadata": {
        "id": "d6Goe-1ZhxmG"
      }
    },
    {
      "cell_type": "markdown",
      "source": [
        "### Excel to dataframe y saber cuantas sheet hay en el excel"
      ],
      "metadata": {
        "id": "u1zaUeCAhxmH"
      }
    },
    {
      "cell_type": "code",
      "execution_count": null,
      "metadata": {
        "id": "GCG45A6AhxmJ"
      },
      "outputs": [],
      "source": [
        "# Load excel\n",
        "xls = pd.ExcelFile('/content/drive/My Drive/00_Gob_Medio_Amb/20220321 Autorizaciones LP.xlsx')"
      ]
    },
    {
      "cell_type": "code",
      "execution_count": null,
      "metadata": {
        "id": "wDnFp0UxhxmL"
      },
      "outputs": [],
      "source": [
        "end = len(xls.sheet_names)"
      ]
    },
    {
      "cell_type": "markdown",
      "source": [
        "### Ejecutar funciones"
      ],
      "metadata": {
        "id": "K-A9XrbGENBP"
      }
    },
    {
      "cell_type": "code",
      "source": [
        "list_df_all = manipulador(xls, end, 'Autorización')"
      ],
      "metadata": {
        "id": "li0I3WWnENBR"
      },
      "execution_count": null,
      "outputs": []
    },
    {
      "cell_type": "markdown",
      "source": [
        "### Merge DF"
      ],
      "metadata": {
        "id": "SPa6Tp0oMLDR"
      }
    },
    {
      "cell_type": "code",
      "source": [
        "df_all_merge_LP_autorizacion = pd.concat(list_df_all)"
      ],
      "metadata": {
        "id": "ccsqW_gCOIgf"
      },
      "execution_count": null,
      "outputs": []
    },
    {
      "cell_type": "code",
      "source": [
        "df_all_merge_LP_autorizacion.dropna(how='all', axis=1, inplace=True) #Quitar Columnas vacias"
      ],
      "metadata": {
        "id": "rE_qsfGASTJm"
      },
      "execution_count": null,
      "outputs": []
    },
    {
      "cell_type": "markdown",
      "source": [
        "# SCT"
      ],
      "metadata": {
        "id": "eKP2MZsCDtBs"
      }
    },
    {
      "cell_type": "markdown",
      "source": [
        "## Notificación"
      ],
      "metadata": {
        "id": "7wAp2e41oSvp"
      }
    },
    {
      "cell_type": "markdown",
      "source": [
        "### Excel to dataframe y saber cuantas sheet hay en el excel"
      ],
      "metadata": {
        "id": "ZSEeh5jboSvp"
      }
    },
    {
      "cell_type": "code",
      "execution_count": null,
      "metadata": {
        "id": "KlkDTGq4oSvq"
      },
      "outputs": [],
      "source": [
        "# Load excel\n",
        "xls = pd.ExcelFile('/content/drive/My Drive/00_Gob_Medio_Amb/20211226 Notificaciones SCT_2.xlsx')"
      ]
    },
    {
      "cell_type": "code",
      "execution_count": null,
      "metadata": {
        "id": "QOXMDr4VoSvr"
      },
      "outputs": [],
      "source": [
        "end = len(xls.sheet_names)"
      ]
    },
    {
      "cell_type": "markdown",
      "source": [
        "### Ejecutar funciones"
      ],
      "metadata": {
        "id": "TAhbtGusEgwh"
      }
    },
    {
      "cell_type": "code",
      "source": [
        "list_df_all = manipulador(xls,end, 'Notificación')"
      ],
      "metadata": {
        "id": "SZy4ztAlEgwj"
      },
      "execution_count": null,
      "outputs": []
    },
    {
      "cell_type": "markdown",
      "source": [
        "### Merge DF"
      ],
      "metadata": {
        "id": "auJKSgoeoSvu"
      }
    },
    {
      "cell_type": "code",
      "source": [
        "df_all_merge_SCT_notificacion = pd.concat(list_df_all)"
      ],
      "metadata": {
        "id": "Ts2kBkMRoSvv"
      },
      "execution_count": null,
      "outputs": []
    },
    {
      "cell_type": "code",
      "source": [
        "df_all_merge_SCT_notificacion.dropna(how='all', axis=1, inplace=True) #Quitar Columnas vacias"
      ],
      "metadata": {
        "id": "r3nkzWLyoSvv"
      },
      "execution_count": null,
      "outputs": []
    },
    {
      "cell_type": "markdown",
      "source": [
        "## Autorización"
      ],
      "metadata": {
        "id": "Ivjcjft-oIOP"
      }
    },
    {
      "cell_type": "markdown",
      "source": [
        "### Excel to dataframe y saber cuantas sheet hay en el excel"
      ],
      "metadata": {
        "id": "u_wkRMU9DtBu"
      }
    },
    {
      "cell_type": "code",
      "execution_count": null,
      "metadata": {
        "id": "_QH6wM49DtBx"
      },
      "outputs": [],
      "source": [
        "# Load excel\n",
        "xls = pd.ExcelFile('/content/drive/My Drive/00_Gob_Medio_Amb/20220225_Autorizaciones_SCT-excel.xlsx')"
      ]
    },
    {
      "cell_type": "code",
      "execution_count": null,
      "metadata": {
        "id": "0m1fA--zDtB0"
      },
      "outputs": [],
      "source": [
        "end = len(xls.sheet_names)"
      ]
    },
    {
      "cell_type": "markdown",
      "source": [
        "### Ejecutar funciones"
      ],
      "metadata": {
        "id": "ulI2m4Z5El63"
      }
    },
    {
      "cell_type": "code",
      "source": [
        "list_df_all = manipulador(xls,end, 'Autorización')"
      ],
      "metadata": {
        "id": "TvBJU4GWEl65"
      },
      "execution_count": null,
      "outputs": []
    },
    {
      "cell_type": "markdown",
      "source": [
        "### Merge DF"
      ],
      "metadata": {
        "id": "fwuhGrbIDtB5"
      }
    },
    {
      "cell_type": "code",
      "source": [
        "df_all_merge_SCT_autorizacion = pd.concat(list_df_all)"
      ],
      "metadata": {
        "id": "eDJrUqMnDtB6"
      },
      "execution_count": null,
      "outputs": []
    },
    {
      "cell_type": "code",
      "source": [
        "df_all_merge_SCT_autorizacion.dropna(how='all', axis=1, inplace=True) #Quitar Columnas vacias"
      ],
      "metadata": {
        "id": "xVIHFAFQDtB7"
      },
      "execution_count": null,
      "outputs": []
    },
    {
      "cell_type": "markdown",
      "source": [
        "# Unir los data frames de LP & SCT"
      ],
      "metadata": {
        "id": "QvZfCWqDEDRx"
      }
    },
    {
      "cell_type": "code",
      "source": [
        "merge = [df_all_merge_LP_notificacion, df_all_merge_LP_autorizacion, df_all_merge_SCT_notificacion, df_all_merge_SCT_autorizacion]"
      ],
      "metadata": {
        "id": "6HyeDwk2EoMZ"
      },
      "execution_count": null,
      "outputs": []
    },
    {
      "cell_type": "code",
      "source": [
        "df_all_merge = pd.concat(merge)"
      ],
      "metadata": {
        "id": "ne6XtL36EIFh"
      },
      "execution_count": null,
      "outputs": []
    },
    {
      "cell_type": "markdown",
      "source": [
        "## Mover columnas y quitar columnas con datos innecesarios."
      ],
      "metadata": {
        "id": "ijU2WNqvIwu0"
      }
    },
    {
      "cell_type": "code",
      "source": [
        "first_column = df_all_merge.pop('VCMA-EXP')  \n",
        "df_all_merge.insert(0, 'VCMA-EXP', first_column) "
      ],
      "metadata": {
        "id": "0BTsg1bwIsbD"
      },
      "execution_count": null,
      "outputs": []
    },
    {
      "cell_type": "markdown",
      "source": [
        "# Guardar el archivo final"
      ],
      "metadata": {
        "id": "0adgBYvoBlpH"
      }
    },
    {
      "cell_type": "code",
      "source": [
        "path = '/content/drive/My Drive/00_Gob_Medio_Amb/APCA-General-ALL/All_APCA-GENERAL-lp-SCT-Merge-DF.xlsx'\n",
        "with pd.ExcelWriter(path) as writer:\n",
        "    # use to_excel function and specify the sheet_name and index\n",
        "    # to store the dataframe in specified sheet\n",
        "    df_all_merge.to_excel(writer, sheet_name=\"Focos_all\", index=False)"
      ],
      "metadata": {
        "id": "g52Fa8TgObTB"
      },
      "execution_count": null,
      "outputs": []
    }
  ],
  "metadata": {
    "colab": {
      "collapsed_sections": [
        "1kplpw_EB2gb",
        "d6Goe-1ZhxmG",
        "u1zaUeCAhxmH",
        "7wAp2e41oSvp",
        "ZSEeh5jboSvp",
        "Ivjcjft-oIOP"
      ],
      "provenance": [],
      "authorship_tag": "ABX9TyMOkT8NR4fdSAllg3EqtHYB",
      "include_colab_link": true
    },
    "kernelspec": {
      "display_name": "Python 3",
      "name": "python3"
    },
    "language_info": {
      "name": "python"
    }
  },
  "nbformat": 4,
  "nbformat_minor": 0
}