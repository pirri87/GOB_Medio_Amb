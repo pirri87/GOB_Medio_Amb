{
  "cells": [
    {
      "cell_type": "markdown",
      "metadata": {
        "id": "view-in-github",
        "colab_type": "text"
      },
      "source": [
        "<a href=\"https://colab.research.google.com/github/pirri87/GOB_Medio_Amb/blob/main/FOCOS_ALL.ipynb\" target=\"_parent\"><img src=\"https://colab.research.google.com/assets/colab-badge.svg\" alt=\"Open In Colab\"/></a>"
      ]
    },
    {
      "cell_type": "markdown",
      "source": [
        "# Libraries & Load Drive"
      ],
      "metadata": {
        "id": "1kplpw_EB2gb"
      }
    },
    {
      "cell_type": "code",
      "execution_count": 1,
      "metadata": {
        "id": "jANyGBtmbWSm"
      },
      "outputs": [],
      "source": [
        "# libraries\n",
        "import pandas as pd"
      ]
    },
    {
      "cell_type": "code",
      "execution_count": 2,
      "metadata": {
        "colab": {
          "base_uri": "https://localhost:8080/"
        },
        "id": "yWwoVwDsfRS2",
        "outputId": "4a07cb34-1367-4880-c47b-cd9f5104d175"
      },
      "outputs": [
        {
          "output_type": "stream",
          "name": "stdout",
          "text": [
            "Drive already mounted at /content/drive; to attempt to forcibly remount, call drive.mount(\"/content/drive\", force_remount=True).\n"
          ]
        }
      ],
      "source": [
        "from google.colab import drive\n",
        "drive.mount('/content/drive')"
      ]
    },
    {
      "cell_type": "markdown",
      "source": [
        "# LP"
      ],
      "metadata": {
        "id": "CkLpsKo1x1A8"
      }
    },
    {
      "cell_type": "markdown",
      "source": [
        "## Notificación"
      ],
      "metadata": {
        "id": "afHcNFJShkYe"
      }
    },
    {
      "cell_type": "markdown",
      "source": [
        "### Excel to dataframe y saber cuantas sheet hay en el excel"
      ],
      "metadata": {
        "id": "HyxNMQ2jyJ0v"
      }
    },
    {
      "cell_type": "code",
      "execution_count": 3,
      "metadata": {
        "id": "qPc4Vd2udgPW"
      },
      "outputs": [],
      "source": [
        "# Load excel\n",
        "xls = pd.ExcelFile('/content/drive/MyDrive/00_Gob_Medio_Amb/20220223 Notificaciones LP_excel.xlsx')"
      ]
    },
    {
      "cell_type": "code",
      "execution_count": 4,
      "metadata": {
        "id": "vcu9y1YVilUK"
      },
      "outputs": [],
      "source": [
        "end = len(xls.sheet_names)"
      ]
    },
    {
      "cell_type": "markdown",
      "source": [
        "### Código\n",
        "Cada sheet estara en un dataframe para ello tengo que hacer lo siguiente:\n",
        "*   Saber su apca_id\n",
        "*   Encuentro donde empieza focos\n",
        "*   Elimino las filas que no me interesa\n",
        "*   Traspongo las columnas en filas\n",
        "*   Añado el apca_id en cada foco.\n",
        "\n",
        "\n"
      ],
      "metadata": {
        "id": "1fWkv2PnJFZ7"
      }
    },
    {
      "cell_type": "code",
      "source": [
        "def take_apca_id(df_apca_id):\n",
        "  df_apca_id.head(0) # En el encabezado hay información que es dato y no keys, para ello hago estos pasos\n",
        "  mydict = df_apca_id.head(0).to_dict() # Lo transformo para poder manipularlo\n",
        "  apca_long = list(mydict.keys())[1] # Obtengo el dato que necesito que es el id del apca\n",
        "  #print(apca_long)\n",
        "  return apca_long[0:8]  # Corto el final para que no salga letras ni escpacios"
      ],
      "metadata": {
        "id": "M5u8tMiL7q4D"
      },
      "execution_count": 5,
      "outputs": []
    },
    {
      "cell_type": "code",
      "execution_count": 6,
      "metadata": {
        "id": "iKFXx22qW5-O"
      },
      "outputs": [],
      "source": [
        "list_apca = []\n",
        "list_df_all = []\n",
        "for i in range(end):\n",
        "#for i in range(2):\n",
        "  df = pd.read_excel(xls,i)# Load sheet, star in 0 , con la i recorro cada uno de los sheet\n",
        "  apca_id = take_apca_id(df)\n",
        "  #print(apca_id)\n",
        "  list_apca.append(apca_id)\n",
        "  find_focos = list(df[\"VCMA-EXP\"].str.find(\"FOCOS\")) # Encuentra donde esta FOCOS y le da el valor 0.0, lo paso a lista\n",
        "  row_focos = find_focos.index(0.0) #Me da la posición del valor 0.0 en ls lista\n",
        "  df = df.drop(labels=range(0, row_focos + 1), axis=0) # Elimino las filas que no me interesa\n",
        "  df = df.transpose() # Transpongo las filas a columna\n",
        "  df = df.rename(columns= df.iloc[0]).drop(df.index[0]) # Quito el Index del encabezado y le pongo la fila 1\n",
        "  df = df.reset_index(drop=True) # Reseteo el index porque al transponer ya no esta.\n",
        "  df = df.replace('-','', regex=True) # Sustituyo los - por vacio\n",
        "  rows = len(df.axes[0]) # Cuento el numero de filas.\n",
        "  list_apca_id = []\n",
        "  for row in range(rows):\n",
        "    list_apca_id.append(apca_id)\n",
        "  df['VCMA-EXP'] = list_apca_id\n",
        "  list_df_all.append(df)"
      ]
    },
    {
      "cell_type": "markdown",
      "source": [
        "### Merge DF"
      ],
      "metadata": {
        "id": "Lh8I_lxoiTwD"
      }
    },
    {
      "cell_type": "code",
      "source": [
        "df_all_merge_LP_notificacion = pd.concat(list_df_all)"
      ],
      "metadata": {
        "id": "KbvSg2tfiTwF"
      },
      "execution_count": 7,
      "outputs": []
    },
    {
      "cell_type": "code",
      "source": [
        "df_all_merge_LP_notificacion.dropna(how='all', axis=1, inplace=True) #Quitar Columnas vacias"
      ],
      "metadata": {
        "id": "o3mq5gRMiTwH"
      },
      "execution_count": 8,
      "outputs": []
    },
    {
      "cell_type": "markdown",
      "source": [
        "## Autorización"
      ],
      "metadata": {
        "id": "d6Goe-1ZhxmG"
      }
    },
    {
      "cell_type": "markdown",
      "source": [
        "### Excel to dataframe y saber cuantas sheet hay en el excel"
      ],
      "metadata": {
        "id": "u1zaUeCAhxmH"
      }
    },
    {
      "cell_type": "code",
      "execution_count": 9,
      "metadata": {
        "id": "GCG45A6AhxmJ"
      },
      "outputs": [],
      "source": [
        "# Load excel\n",
        "xls = pd.ExcelFile('/content/drive/My Drive/00_Gob_Medio_Amb/20220321 Autorizaciones LP.xlsx')"
      ]
    },
    {
      "cell_type": "code",
      "execution_count": 10,
      "metadata": {
        "id": "wDnFp0UxhxmL"
      },
      "outputs": [],
      "source": [
        "end = len(xls.sheet_names)"
      ]
    },
    {
      "cell_type": "markdown",
      "source": [
        "### Código\n",
        "Cada sheet estara en un dataframe para ello tengo que hacer lo siguiente:\n",
        "*   Saber su apca_id\n",
        "*   Encuentro donde empieza focos\n",
        "*   Elimino las filas que no me interesa\n",
        "*   Traspongo las columnas en filas\n",
        "*   Añado el apca_id en cada foco.\n",
        "\n",
        "\n"
      ],
      "metadata": {
        "id": "y2A2wej-hxmM"
      }
    },
    {
      "cell_type": "code",
      "source": [
        "def take_apca_id(df_apca_id):\n",
        "  df_apca_id.head(0) # En el encabezado hay información que es dato y no keys, para ello hago estos pasos\n",
        "  mydict = df_apca_id.head(0).to_dict() # Lo transformo para poder manipularlo\n",
        "  apca_long = list(mydict.keys())[1] # Obtengo el dato que necesito que es el id del apca\n",
        "  #print(apca_long)\n",
        "  return apca_long[0:8]  # Corto el final para que no salga letras ni escpacios"
      ],
      "metadata": {
        "id": "Ir1_efJJhxmO"
      },
      "execution_count": 11,
      "outputs": []
    },
    {
      "cell_type": "code",
      "execution_count": 12,
      "metadata": {
        "id": "t44Qg8WXhxmP"
      },
      "outputs": [],
      "source": [
        "list_apca = []\n",
        "list_df_all = []\n",
        "for i in range(end):\n",
        "#for i in range(2):\n",
        "  df = pd.read_excel(xls,i)# Load sheet, star in 0 , con la i recorro cada uno de los sheet\n",
        "  apca_id = take_apca_id(df)\n",
        "  #print(apca_id)\n",
        "  list_apca.append(apca_id)\n",
        "  find_focos = list(df[\"VCMA-EXP\"].str.find(\"FOCOS\")) # Encuentra donde esta FOCOS y le da el valor 0.0, lo paso a lista\n",
        "  row_focos = find_focos.index(0.0) #Me da la posición del valor 0.0 en ls lista\n",
        "  df = df.drop(labels=range(0, row_focos + 1), axis=0) # Elimino las filas que no me interesa\n",
        "  df = df.transpose() # Transpongo las filas a columna\n",
        "  df = df.rename(columns= df.iloc[0]).drop(df.index[0]) # Quito el Index del encabezado y le pongo la fila 1\n",
        "  df = df.reset_index(drop=True) # Reseteo el index porque al transponer ya no esta.\n",
        "  df = df.replace('-','', regex=True) # Sustituyo los - por vacio\n",
        "  rows = len(df.axes[0]) # Cuento el numero de filas.\n",
        "  list_apca_id = []\n",
        "  for row in range(rows):\n",
        "    list_apca_id.append(apca_id)\n",
        "  df['VCMA-EXP'] = list_apca_id\n",
        "  list_df_all.append(df)"
      ]
    },
    {
      "cell_type": "markdown",
      "source": [
        "### Merge DF"
      ],
      "metadata": {
        "id": "SPa6Tp0oMLDR"
      }
    },
    {
      "cell_type": "code",
      "source": [
        "df_all_merge_LP_autorizacion = pd.concat(list_df_all)"
      ],
      "metadata": {
        "id": "ccsqW_gCOIgf"
      },
      "execution_count": 13,
      "outputs": []
    },
    {
      "cell_type": "code",
      "source": [
        "df_all_merge_LP_autorizacion.dropna(how='all', axis=1, inplace=True) #Quitar Columnas vacias"
      ],
      "metadata": {
        "id": "rE_qsfGASTJm"
      },
      "execution_count": 14,
      "outputs": []
    },
    {
      "cell_type": "markdown",
      "source": [
        "# SCT"
      ],
      "metadata": {
        "id": "eKP2MZsCDtBs"
      }
    },
    {
      "cell_type": "markdown",
      "source": [
        "## Notificación"
      ],
      "metadata": {
        "id": "7wAp2e41oSvp"
      }
    },
    {
      "cell_type": "markdown",
      "source": [
        "### Excel to dataframe y saber cuantas sheet hay en el excel"
      ],
      "metadata": {
        "id": "ZSEeh5jboSvp"
      }
    },
    {
      "cell_type": "code",
      "execution_count": 15,
      "metadata": {
        "id": "KlkDTGq4oSvq"
      },
      "outputs": [],
      "source": [
        "# Load excel\n",
        "xls = pd.ExcelFile('/content/drive/My Drive/00_Gob_Medio_Amb/20211226 Notificaciones SCT_2.xlsx')"
      ]
    },
    {
      "cell_type": "code",
      "execution_count": 16,
      "metadata": {
        "id": "QOXMDr4VoSvr"
      },
      "outputs": [],
      "source": [
        "end = len(xls.sheet_names)"
      ]
    },
    {
      "cell_type": "markdown",
      "source": [
        "### Código\n",
        "Cada sheet estara en un dataframe para ello tengo que hacer lo siguiente:\n",
        "*   Saber su apca_id\n",
        "*   Encuentro donde empieza focos\n",
        "*   Elimino las filas que no me interesa\n",
        "*   Traspongo las columnas en filas\n",
        "*   Añado el apca_id en cada foco.\n",
        "\n",
        "\n"
      ],
      "metadata": {
        "id": "4qBM_aA5oSvr"
      }
    },
    {
      "cell_type": "code",
      "source": [
        "def take_apca_id(df_apca_id):\n",
        "  df_apca_id.head(0) # En el encabezado hay información que es dato y no keys, para ello hago estos pasos\n",
        "  mydict = df_apca_id.head(0).to_dict() # Lo transformo para poder manipularlo\n",
        "  apca_long = list(mydict.keys())[1] # Obtengo el dato que necesito que es el id del apca\n",
        "  #print(apca_long)\n",
        "  return apca_long[0:8]  # Corto el final para que no salga letras ni escpacios"
      ],
      "metadata": {
        "id": "lFHGPPDQoSvt"
      },
      "execution_count": 17,
      "outputs": []
    },
    {
      "cell_type": "code",
      "execution_count": 18,
      "metadata": {
        "id": "tLCoBQPYoSvt"
      },
      "outputs": [],
      "source": [
        "list_apca = []\n",
        "list_df_all = []\n",
        "for i in range(end):\n",
        "#for i in range(2):\n",
        "  df = pd.read_excel(xls,i)# Load sheet, star in 0 , con la i recorro cada uno de los sheet\n",
        "  apca_id = take_apca_id(df)\n",
        "  #print(apca_id)\n",
        "  list_apca.append(apca_id)\n",
        "  find_focos = list(df[\"VCMA-EXP\"].str.find(\"FOCOS\")) # Encuentra donde esta FOCOS y le da el valor 0.0, lo paso a lista\n",
        "  row_focos = find_focos.index(0.0) #Me da la posición del valor 0.0 en ls lista\n",
        "  df = df.drop(labels=range(0, row_focos + 1), axis=0)\n",
        "  df = df.transpose()\n",
        "  df = df.rename(columns= df.iloc[0]).drop(df.index[0])\n",
        "  df = df.reset_index(drop=True)\n",
        "  df = df.replace('-','', regex=True)\n",
        "  rows = len(df.axes[0])\n",
        "  list_apca_id = []\n",
        "  for row in range(rows):\n",
        "    list_apca_id.append(apca_id)\n",
        "  df['VCMA-EXP'] = list_apca_id\n",
        "  list_df_all.append(df)"
      ]
    },
    {
      "cell_type": "markdown",
      "source": [
        "### Merge DF"
      ],
      "metadata": {
        "id": "auJKSgoeoSvu"
      }
    },
    {
      "cell_type": "code",
      "source": [
        "df_all_merge_SCT_notificacion = pd.concat(list_df_all)"
      ],
      "metadata": {
        "id": "Ts2kBkMRoSvv"
      },
      "execution_count": 19,
      "outputs": []
    },
    {
      "cell_type": "code",
      "source": [
        "df_all_merge_SCT_notificacion.dropna(how='all', axis=1, inplace=True) #Quitar Columnas vacias"
      ],
      "metadata": {
        "id": "r3nkzWLyoSvv"
      },
      "execution_count": 20,
      "outputs": []
    },
    {
      "cell_type": "markdown",
      "source": [
        "## Autorización"
      ],
      "metadata": {
        "id": "Ivjcjft-oIOP"
      }
    },
    {
      "cell_type": "markdown",
      "source": [
        "### Excel to dataframe y saber cuantas sheet hay en el excel"
      ],
      "metadata": {
        "id": "u_wkRMU9DtBu"
      }
    },
    {
      "cell_type": "code",
      "execution_count": 21,
      "metadata": {
        "id": "_QH6wM49DtBx"
      },
      "outputs": [],
      "source": [
        "# Load excel\n",
        "xls = pd.ExcelFile('/content/drive/My Drive/00_Gob_Medio_Amb/20220225_Autorizaciones_SCT-excel.xlsx')"
      ]
    },
    {
      "cell_type": "code",
      "execution_count": 22,
      "metadata": {
        "id": "0m1fA--zDtB0"
      },
      "outputs": [],
      "source": [
        "end = len(xls.sheet_names)"
      ]
    },
    {
      "cell_type": "markdown",
      "source": [
        "### Código\n",
        "Cada sheet estara en un dataframe para ello tengo que hacer lo siguiente:\n",
        "*   Saber su apca_id\n",
        "*   Encuentro donde empieza focos\n",
        "*   Elimino las filas que no me interesa\n",
        "*   Traspongo las columnas en filas\n",
        "*   Añado el apca_id en cada foco.\n",
        "\n",
        "\n"
      ],
      "metadata": {
        "id": "TDLZgNKdDtB1"
      }
    },
    {
      "cell_type": "code",
      "source": [
        "def take_apca_id(df_apca_id):\n",
        "  df_apca_id.head(0) # En el encabezado hay información que es dato y no keys, para ello hago estos pasos\n",
        "  mydict = df_apca_id.head(0).to_dict() # Lo transformo para poder manipularlo\n",
        "  apca_long = list(mydict.keys())[1] # Obtengo el dato que necesito que es el id del apca\n",
        "  #print(apca_long)\n",
        "  return apca_long[0:8]  # Corto el final para que no salga letras ni escpacios"
      ],
      "metadata": {
        "id": "KqiIHAMRDtB3"
      },
      "execution_count": 23,
      "outputs": []
    },
    {
      "cell_type": "code",
      "execution_count": 24,
      "metadata": {
        "id": "gbimAs1kDtB4"
      },
      "outputs": [],
      "source": [
        "list_apca = []\n",
        "list_df_all = []\n",
        "for i in range(end):\n",
        "#for i in range(2):\n",
        "  df = pd.read_excel(xls,i)# Load sheet, star in 0 , con la i recorro cada uno de los sheet\n",
        "  apca_id = take_apca_id(df)\n",
        "  #print(apca_id)\n",
        "  list_apca.append(apca_id)\n",
        "  find_focos = list(df[\"VCMA-EXP\"].str.find(\"FOCOS\")) # Encuentra donde esta FOCOS y le da el valor 0.0, lo paso a lista\n",
        "  row_focos = find_focos.index(0.0) #Me da la posición del valor 0.0 en ls lista\n",
        "  df = df.drop(labels=range(0, row_focos + 1), axis=0)\n",
        "  df = df.transpose()\n",
        "  df = df.rename(columns= df.iloc[0]).drop(df.index[0])\n",
        "  df = df.reset_index(drop=True)\n",
        "  df = df.replace('-','', regex=True)\n",
        "  rows = len(df.axes[0])\n",
        "  list_apca_id = []\n",
        "  for row in range(rows):\n",
        "    list_apca_id.append(apca_id)\n",
        "  df['VCMA-EXP'] = list_apca_id\n",
        "  list_df_all.append(df)"
      ]
    },
    {
      "cell_type": "markdown",
      "source": [
        "### Merge DF"
      ],
      "metadata": {
        "id": "fwuhGrbIDtB5"
      }
    },
    {
      "cell_type": "code",
      "source": [
        "df_all_merge_SCT_autorizacion = pd.concat(list_df_all)"
      ],
      "metadata": {
        "id": "eDJrUqMnDtB6"
      },
      "execution_count": 25,
      "outputs": []
    },
    {
      "cell_type": "code",
      "source": [
        "df_all_merge_SCT_autorizacion.dropna(how='all', axis=1, inplace=True) #Quitar Columnas vacias"
      ],
      "metadata": {
        "id": "xVIHFAFQDtB7"
      },
      "execution_count": 26,
      "outputs": []
    },
    {
      "cell_type": "markdown",
      "source": [
        "# Unir los data frames de LP & SCT"
      ],
      "metadata": {
        "id": "QvZfCWqDEDRx"
      }
    },
    {
      "cell_type": "code",
      "source": [
        "merge = [df_all_merge_LP_notificacion, df_all_merge_LP_autorizacion, df_all_merge_SCT_notificacion, df_all_merge_SCT_autorizacion]"
      ],
      "metadata": {
        "id": "6HyeDwk2EoMZ"
      },
      "execution_count": 27,
      "outputs": []
    },
    {
      "cell_type": "code",
      "source": [
        "df_all_merge = pd.concat(merge)"
      ],
      "metadata": {
        "id": "ne6XtL36EIFh"
      },
      "execution_count": 28,
      "outputs": []
    },
    {
      "cell_type": "markdown",
      "source": [
        "## Mover columnas y quitar columnas con datos innecesarios."
      ],
      "metadata": {
        "id": "ijU2WNqvIwu0"
      }
    },
    {
      "cell_type": "code",
      "source": [
        "first_column = df_all_merge.pop('VCMA-EXP')  \n",
        "df_all_merge.insert(0, 'VCMA-EXP', first_column) "
      ],
      "metadata": {
        "id": "0BTsg1bwIsbD"
      },
      "execution_count": 29,
      "outputs": []
    },
    {
      "cell_type": "markdown",
      "source": [
        "# Guardar el archivo final"
      ],
      "metadata": {
        "id": "0adgBYvoBlpH"
      }
    },
    {
      "cell_type": "code",
      "source": [
        "path = '/content/drive/My Drive/00_Gob_Medio_Amb/FOCOS_ALL/All_Focos-lp-SCT-Merge-DF.xlsx'\n",
        "with pd.ExcelWriter(path) as writer:\n",
        "    # use to_excel function and specify the sheet_name and index\n",
        "    # to store the dataframe in specified sheet\n",
        "    df_all_merge.to_excel(writer, sheet_name=\"Focos_all\", index=False)"
      ],
      "metadata": {
        "id": "g52Fa8TgObTB"
      },
      "execution_count": 30,
      "outputs": []
    }
  ],
  "metadata": {
    "colab": {
      "collapsed_sections": [
        "1kplpw_EB2gb",
        "afHcNFJShkYe",
        "d6Goe-1ZhxmG",
        "u1zaUeCAhxmH",
        "y2A2wej-hxmM",
        "7wAp2e41oSvp",
        "ZSEeh5jboSvp",
        "4qBM_aA5oSvr",
        "Ivjcjft-oIOP"
      ],
      "provenance": [],
      "authorship_tag": "ABX9TyPk/s6ofyFTveLnDU+O6plB",
      "include_colab_link": true
    },
    "kernelspec": {
      "display_name": "Python 3",
      "name": "python3"
    },
    "language_info": {
      "name": "python"
    }
  },
  "nbformat": 4,
  "nbformat_minor": 0
}