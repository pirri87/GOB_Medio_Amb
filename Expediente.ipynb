{
  "nbformat": 4,
  "nbformat_minor": 0,
  "metadata": {
    "colab": {
      "provenance": [],
      "mount_file_id": "1tIx-UVwt-j8M1SgwLA1Y9bMb8fsLV3nB",
      "authorship_tag": "ABX9TyPHJFULIRseOuoJPxB4mtsy",
      "include_colab_link": true
    },
    "kernelspec": {
      "name": "python3",
      "display_name": "Python 3"
    },
    "language_info": {
      "name": "python"
    }
  },
  "cells": [
    {
      "cell_type": "markdown",
      "metadata": {
        "id": "view-in-github",
        "colab_type": "text"
      },
      "source": [
        "<a href=\"https://colab.research.google.com/github/pirri87/GOB_Medio_Amb/blob/main/Expediente.ipynb\" target=\"_parent\"><img src=\"https://colab.research.google.com/assets/colab-badge.svg\" alt=\"Open In Colab\"/></a>"
      ]
    },
    {
      "cell_type": "markdown",
      "source": [
        "# Libraries & Load Drive"
      ],
      "metadata": {
        "id": "1kplpw_EB2gb"
      }
    },
    {
      "cell_type": "code",
      "execution_count": 1,
      "metadata": {
        "id": "jANyGBtmbWSm"
      },
      "outputs": [],
      "source": [
        "# libraries\n",
        "from numpy import NaN, nan as np\n",
        "import pandas as pd\n",
        "import re "
      ]
    },
    {
      "cell_type": "code",
      "execution_count": 2,
      "metadata": {
        "colab": {
          "base_uri": "https://localhost:8080/"
        },
        "id": "yWwoVwDsfRS2",
        "outputId": "b49296be-4caa-4089-dff2-7df96a9fc55b"
      },
      "outputs": [
        {
          "output_type": "stream",
          "name": "stdout",
          "text": [
            "Drive already mounted at /content/drive; to attempt to forcibly remount, call drive.mount(\"/content/drive\", force_remount=True).\n"
          ]
        }
      ],
      "source": [
        "from google.colab import drive\n",
        "drive.mount('/content/drive')"
      ]
    },
    {
      "cell_type": "markdown",
      "source": [
        "# Load EXCEL"
      ],
      "metadata": {
        "id": "Jhz1l05I8_7A"
      }
    },
    {
      "cell_type": "code",
      "source": [
        " xls = pd.ExcelFile('/content/drive/MyDrive/00_Gob_Medio_Amb/Expediente_APCA/20221018  SEGUIMIENTO EXPEDIENTES APCA-excel.xlsx')"
      ],
      "metadata": {
        "id": "NF2etBgO9DpZ"
      },
      "execution_count": 3,
      "outputs": []
    },
    {
      "cell_type": "markdown",
      "source": [
        "# Tratamiento de datos"
      ],
      "metadata": {
        "id": "OB7KSG4yOlQu"
      }
    },
    {
      "cell_type": "code",
      "source": [
        "df = pd.read_excel(xls,0)\n",
        "rows = len(df)"
      ],
      "metadata": {
        "colab": {
          "base_uri": "https://localhost:8080/"
        },
        "id": "NRXoezWrOpl-",
        "outputId": "6eb33d3d-0f22-4b4d-bfc9-f2bfd03df43d"
      },
      "execution_count": 4,
      "outputs": [
        {
          "output_type": "stream",
          "name": "stderr",
          "text": [
            "/usr/local/lib/python3.7/dist-packages/openpyxl/worksheet/_reader.py:211: UserWarning: Cell U210 is marked as a date but the serial value 6692043 is outside the limits for dates. The cell will be treated as an error.\n",
            "  warn(msg)\n"
          ]
        }
      ]
    },
    {
      "cell_type": "markdown",
      "source": [
        "## Función para eleminar combinas y añadir datos"
      ],
      "metadata": {
        "id": "7QQsue_ZfP_v"
      }
    },
    {
      "cell_type": "code",
      "source": [
        "def remove_nan (rows, colum):\n",
        "  cell_buffer = []\n",
        "  for row in range(rows):\n",
        "    cell = df.loc[row, colum]\n",
        "    cell_buffer.append(cell)\n",
        "    if str(cell) == 'nan': # No me funcionas lo metedos nan asi lo transforme a str y puse nan\n",
        "      df.at[row, colum] = cell_buffer[-2] # Añado el penultimo numero que tiene dato\n",
        "      cell_buffer[-1] = cell_buffer[-2] # Añado el penultimo numero que tiene dato"
      ],
      "metadata": {
        "id": "1Zdsq12yfgD1"
      },
      "execution_count": 5,
      "outputs": []
    },
    {
      "cell_type": "code",
      "source": [
        "def add_APCA_format (rows, colum):\n",
        "  for row in range(rows):\n",
        "    cell = df.loc[row, colum]\n",
        "    if len(str(cell)) == 1:\n",
        "      df.at[row, colum] = 'APCA-00' + str(cell)+ '-' + str(df.loc[row, 'PROV.'])\n",
        "    elif len(str(cell)) == 2:\n",
        "      df.at[row, colum] = 'APCA-0' + str(cell)+ '-' + str(df.loc[row, 'PROV.'])\n",
        "    elif len(str(cell)) == 3:\n",
        "      df.at[row, colum] = 'APCA-' + str(cell)+ '-' + str(df.loc[row, 'PROV.'])"
      ],
      "metadata": {
        "id": "0M3axm-yh1VG"
      },
      "execution_count": 6,
      "outputs": []
    },
    {
      "cell_type": "code",
      "source": [
        "remove_nan(rows, 'APCA Nº')\n",
        "remove_nan(rows, 'PROV.')\n",
        "remove_nan(rows, 'TÉCNICO')"
      ],
      "metadata": {
        "id": "p2C5jlB1U3Yn"
      },
      "execution_count": 7,
      "outputs": []
    },
    {
      "cell_type": "code",
      "source": [
        "add_APCA_format(rows, 'APCA Nº')"
      ],
      "metadata": {
        "id": "f3ekGYJliKHm"
      },
      "execution_count": 8,
      "outputs": []
    },
    {
      "cell_type": "markdown",
      "source": [
        "# Quitar formato data.time y solo poner fecha y no las horas"
      ],
      "metadata": {
        "id": "cbuVlXFaJI6h"
      }
    },
    {
      "cell_type": "code",
      "source": [
        "for row in range(rows):\n",
        "  for colum in df.columns:\n",
        "    cell =str(df.loc[row, colum])\n",
        "    if re.findall(\"00:00:00\", cell):\n",
        "      cell = cell.replace(\"00:00:00\", \"\")\n",
        "      df.loc[row, colum] = cell"
      ],
      "metadata": {
        "id": "Mvv9oWuqNIdI"
      },
      "execution_count": 9,
      "outputs": []
    },
    {
      "cell_type": "markdown",
      "source": [
        "# Guardar en excel"
      ],
      "metadata": {
        "id": "B5C9uWjISw2k"
      }
    },
    {
      "cell_type": "code",
      "source": [
        "path = '/content/drive/MyDrive/00_Gob_Medio_Amb/Expediente_APCA/expediente-sin-combinaciones-datatime.xlsx'\n",
        "with pd.ExcelWriter(path) as writer:\n",
        "    # use to_excel function and specify the sheet_name and index\n",
        "    # to store the dataframe in specified sheet\n",
        "  df.to_excel(writer, sheet_name=\"Exp_apcas\", index=False)"
      ],
      "metadata": {
        "id": "yvoEt0d3S0BL"
      },
      "execution_count": 10,
      "outputs": []
    }
  ]
}